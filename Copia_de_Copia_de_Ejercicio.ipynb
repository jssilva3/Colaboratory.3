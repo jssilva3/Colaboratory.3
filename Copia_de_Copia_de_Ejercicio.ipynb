{
  "nbformat": 4,
  "nbformat_minor": 0,
  "metadata": {
    "colab": {
      "name": "Copia de Copia de Ejercicio.ipynb",
      "provenance": [],
      "include_colab_link": true
    },
    "kernelspec": {
      "name": "python3",
      "display_name": "Python 3"
    }
  },
  "cells": [
    {
      "cell_type": "markdown",
      "metadata": {
        "id": "view-in-github",
        "colab_type": "text"
      },
      "source": [
        "<a href=\"https://colab.research.google.com/github/jssilva3/Colaboratory.3/blob/master/Copia_de_Copia_de_Ejercicio.ipynb\" target=\"_parent\"><img src=\"https://colab.research.google.com/assets/colab-badge.svg\" alt=\"Open In Colab\"/></a>"
      ]
    },
    {
      "cell_type": "code",
      "metadata": {
        "id": "kMz-1bJEkG8V",
        "colab_type": "code",
        "colab": {
          "base_uri": "https://localhost:8080/",
          "height": 34
        },
        "outputId": "3af13fb0-a673-4b41-a841-7a78e1de7ad5"
      },
      "source": [
        "#@title Texto de título predeterminado { run: \"auto\", vertical-output: true }\n",
        "np = \"4\" #@param [\"1\", \"2\", \"3\", \"4\"]\n",
        "\n",
        "if np == \"1\":\n",
        "        print (\"fallo en el refresco de la memoria\")\n",
        "elif np == \"2\":\n",
        "          print (\" fallo de memoria. Error de paridad\")\n",
        "elif np == \"3\":\n",
        "      print(\"Fallo en la memoria base de 64K\")\n",
        "elif np == \"4\":\n",
        "      print(\"fallo en el timer del sistema.\")\n",
        "else:\n",
        "      print (\"Error desconocido\")\n"
      ],
      "execution_count": 10,
      "outputs": [
        {
          "output_type": "stream",
          "text": [
            "fallo en el timer del sistema.\n"
          ],
          "name": "stdout"
        }
      ]
    }
  ]
}